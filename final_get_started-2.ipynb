{
 "cells": [
  {
   "cell_type": "code",
   "execution_count": 14,
   "metadata": {},
   "outputs": [],
   "source": [
    "import numpy as np \n",
    "import pandas as pd \n",
    "# from sklearn import preprocessing # feature_extraction, linear_model, model_selection,\n",
    "from sklearn.feature_extraction.text import CountVectorizer\n",
    "from sklearn.linear_model import LogisticRegression, RidgeClassifier\n",
    "from sklearn.model_selection import cross_val_score, train_test_split, KFold\n",
    "from sklearn.metrics import f1_score\n"
   ]
  },
  {
   "cell_type": "code",
   "execution_count": 2,
   "metadata": {},
   "outputs": [],
   "source": [
    "train_df = pd.read_csv(\"nlp-getting-started/train.csv\")\n",
    "test_df = pd.read_csv(\"nlp-getting-started/test.csv\")"
   ]
  },
  {
   "cell_type": "code",
   "execution_count": 3,
   "metadata": {},
   "outputs": [],
   "source": [
    "train_sub = train_df['target']"
   ]
  },
  {
   "cell_type": "code",
   "execution_count": 4,
   "metadata": {},
   "outputs": [
    {
     "data": {
      "text/plain": [
       "((7613, 5), (3263, 4))"
      ]
     },
     "execution_count": 4,
     "metadata": {},
     "output_type": "execute_result"
    }
   ],
   "source": [
    "train_df.shape, test_df.shape"
   ]
  },
  {
   "cell_type": "code",
   "execution_count": 5,
   "metadata": {},
   "outputs": [
    {
     "data": {
      "text/html": [
       "<div>\n",
       "<style scoped>\n",
       "    .dataframe tbody tr th:only-of-type {\n",
       "        vertical-align: middle;\n",
       "    }\n",
       "\n",
       "    .dataframe tbody tr th {\n",
       "        vertical-align: top;\n",
       "    }\n",
       "\n",
       "    .dataframe thead th {\n",
       "        text-align: right;\n",
       "    }\n",
       "</style>\n",
       "<table border=\"1\" class=\"dataframe\">\n",
       "  <thead>\n",
       "    <tr style=\"text-align: right;\">\n",
       "      <th></th>\n",
       "      <th>id</th>\n",
       "      <th>keyword</th>\n",
       "      <th>location</th>\n",
       "      <th>text</th>\n",
       "      <th>target</th>\n",
       "    </tr>\n",
       "  </thead>\n",
       "  <tbody>\n",
       "    <tr>\n",
       "      <th>0</th>\n",
       "      <td>1</td>\n",
       "      <td>NaN</td>\n",
       "      <td>NaN</td>\n",
       "      <td>Our Deeds are the Reason of this #earthquake M...</td>\n",
       "      <td>1</td>\n",
       "    </tr>\n",
       "    <tr>\n",
       "      <th>1</th>\n",
       "      <td>4</td>\n",
       "      <td>NaN</td>\n",
       "      <td>NaN</td>\n",
       "      <td>Forest fire near La Ronge Sask. Canada</td>\n",
       "      <td>1</td>\n",
       "    </tr>\n",
       "    <tr>\n",
       "      <th>2</th>\n",
       "      <td>5</td>\n",
       "      <td>NaN</td>\n",
       "      <td>NaN</td>\n",
       "      <td>All residents asked to 'shelter in place' are ...</td>\n",
       "      <td>1</td>\n",
       "    </tr>\n",
       "    <tr>\n",
       "      <th>3</th>\n",
       "      <td>6</td>\n",
       "      <td>NaN</td>\n",
       "      <td>NaN</td>\n",
       "      <td>13,000 people receive #wildfires evacuation or...</td>\n",
       "      <td>1</td>\n",
       "    </tr>\n",
       "    <tr>\n",
       "      <th>4</th>\n",
       "      <td>7</td>\n",
       "      <td>NaN</td>\n",
       "      <td>NaN</td>\n",
       "      <td>Just got sent this photo from Ruby #Alaska as ...</td>\n",
       "      <td>1</td>\n",
       "    </tr>\n",
       "  </tbody>\n",
       "</table>\n",
       "</div>"
      ],
      "text/plain": [
       "   id keyword location                                               text  \\\n",
       "0   1     NaN      NaN  Our Deeds are the Reason of this #earthquake M...   \n",
       "1   4     NaN      NaN             Forest fire near La Ronge Sask. Canada   \n",
       "2   5     NaN      NaN  All residents asked to 'shelter in place' are ...   \n",
       "3   6     NaN      NaN  13,000 people receive #wildfires evacuation or...   \n",
       "4   7     NaN      NaN  Just got sent this photo from Ruby #Alaska as ...   \n",
       "\n",
       "   target  \n",
       "0       1  \n",
       "1       1  \n",
       "2       1  \n",
       "3       1  \n",
       "4       1  "
      ]
     },
     "execution_count": 5,
     "metadata": {},
     "output_type": "execute_result"
    }
   ],
   "source": [
    "train_df.head()"
   ]
  },
  {
   "cell_type": "code",
   "execution_count": 6,
   "metadata": {},
   "outputs": [
    {
     "name": "stdout",
     "output_type": "stream",
     "text": [
      "7613\n",
      "Num of fake disaster tweet in train:  4342\n",
      "Num of real disaster tweet in train:  3271\n",
      "Are the more fake disaster tweet than real disaster tweet?  True\n",
      "\n",
      "Example of tweet with fake disaster: \n",
      "[[23 \"What's up man?\"]\n",
      " [24 'I love fruits']\n",
      " [25 'Summer is lovely']\n",
      " [26 'My car is so fast']]\n",
      "\n",
      "Example of tweet with real disaster: \n",
      "[[1\n",
      "  'Our Deeds are the Reason of this #earthquake May ALLAH Forgive us all']\n",
      " [4 'Forest fire near La Ronge Sask. Canada']\n",
      " [5\n",
      "  \"All residents asked to 'shelter in place' are being notified by officers. No other evacuation or shelter in place orders are expected\"]\n",
      " [6 '13,000 people receive #wildfires evacuation orders in California ']]\n"
     ]
    }
   ],
   "source": [
    "# see tweet\n",
    "\n",
    "train_df[\"target\"] == 0\n",
    "print(((train_df[\"target\"] == 0) == True).sum() + ((train_df[\"target\"] == 0) == False).sum())\n",
    "\n",
    "print('Num of fake disaster tweet in train: ', ((train_df[\"target\"] == 0) == True).sum())\n",
    "print('Num of real disaster tweet in train: ', ((train_df[\"target\"] == 0) == False).sum())\n",
    "\n",
    "print('Are the more fake disaster tweet than real disaster tweet? ', ((train_df[\"target\"] == 0) == True).sum()\n",
    "      >= ((train_df[\"target\"] == 0) == False).sum())\n",
    "print()\n",
    "print('Example of tweet with fake disaster: ') \n",
    "print(train_df[train_df[\"target\"] == 0][[\"id\", \"text\"]].values[:4]) # нет разницы сначала ставить колнки а потом условие id?\n",
    "print()\n",
    "print('Example of tweet with real disaster: ') \n",
    "print(train_df[['id', 'text']][train_df[\"target\"] == 1].values[:4]) # нет разницы сначала ставить колнки а потом условие id?"
   ]
  },
  {
   "cell_type": "code",
   "execution_count": 7,
   "metadata": {},
   "outputs": [
    {
     "name": "stdout",
     "output_type": "stream",
     "text": [
      "[[48 'ablaze' '@bbcmtd Wholesale Markets ablaze http://t.co/lHYXEOHY6C']\n",
      " [49 'ablaze'\n",
      "  'We always try to bring the heavy. #metal #RT http://t.co/YAo1e0xngw']\n",
      " [50 'ablaze'\n",
      "  '#AFRICANBAZE: Breaking news:Nigeria flag set ablaze in Aba. http://t.co/2nndBGwyEi']\n",
      " [52 'ablaze' 'Crying out for more! Set me ablaze']]\n"
     ]
    }
   ],
   "source": [
    "# see tweet with keyword\n",
    "print(train_df[train_df[\"keyword\"].isna() == False][['id', 'keyword', 'text']].values[:4])"
   ]
  },
  {
   "cell_type": "code",
   "execution_count": 8,
   "metadata": {},
   "outputs": [
    {
     "name": "stdout",
     "output_type": "stream",
     "text": [
      "train tweet: \n",
      "['Our Deeds are the Reason of this #earthquake May ALLAH Forgive us all'\n",
      " 'Forest fire near La Ronge Sask. Canada'\n",
      " \"All residents asked to 'shelter in place' are being notified by officers. No other evacuation or shelter in place orders are expected\"] \n",
      "\n",
      "feature names from tweet: \n",
      "['all', 'allah', 'are', 'asked', 'being', 'by', 'canada', 'deeds', 'earthquake', 'evacuation', 'expected', 'fire', 'forest', 'forgive', 'in', 'la', 'may', 'near', 'no', 'notified', 'of', 'officers', 'or', 'orders', 'other', 'our', 'place', 'reason', 'residents', 'ronge', 'sask', 'shelter', 'the', 'this', 'to', 'us'] \n",
      "\n",
      "count vectorizer: \n",
      "[[1 1 1 0 0 0 0 1 1 0 0 0 0 1 0 0 1 0 0 0 1 0 0 0 0 1 0 1 0 0 0 0 1 1 0 1]\n",
      " [0 0 0 0 0 0 1 0 0 0 0 1 1 0 0 1 0 1 0 0 0 0 0 0 0 0 0 0 0 1 1 0 0 0 0 0]\n",
      " [1 0 2 1 1 1 0 0 0 1 1 0 0 0 2 0 0 0 1 1 0 1 1 1 1 0 2 0 1 0 0 2 0 0 1 0]]\n",
      "\n",
      " (3, 36)\n"
     ]
    }
   ],
   "source": [
    "# use CountVectorizer for vectorize word in tweet \n",
    "count_vectorizer = CountVectorizer()\n",
    "\n",
    "example_train_vectors = count_vectorizer.fit_transform(train_df[\"text\"][0:3])\n",
    "\n",
    "print('train tweet: ')\n",
    "print(train_df[\"text\"].values[:3], '\\n')\n",
    "print('feature names from tweet: ')\n",
    "print(count_vectorizer.get_feature_names(), '\\n')\n",
    "print('count vectorizer: ')\n",
    "print(example_train_vectors.toarray())\n",
    "\n",
    "print('\\n',example_train_vectors.shape) # number of unique word in this tweet"
   ]
  },
  {
   "cell_type": "code",
   "execution_count": 49,
   "metadata": {},
   "outputs": [
    {
     "data": {
      "text/plain": [
       "1"
      ]
     },
     "execution_count": 49,
     "metadata": {},
     "output_type": "execute_result"
    }
   ],
   "source": [
    "example_train_vectors.toarray()[0][0]"
   ]
  },
  {
   "cell_type": "code",
   "execution_count": null,
   "metadata": {},
   "outputs": [],
   "source": []
  },
  {
   "cell_type": "code",
   "execution_count": 9,
   "metadata": {},
   "outputs": [],
   "source": [
    "# fit_transform - Learn the vocabulary dictionary and return term-document matrix.\n",
    "train_vectors = count_vectorizer.fit_transform(train_df[\"text\"])\n",
    "# transform - Transform documents to document-term matrix.\n",
    "test_vectors = count_vectorizer.transform(test_df[\"text\"])\n",
    "\n",
    "# it's mean we learn dictionary on train_df and after use this diсtionary for vectorize test_df"
   ]
  },
  {
   "cell_type": "code",
   "execution_count": 11,
   "metadata": {},
   "outputs": [
    {
     "data": {
      "text/plain": [
       "((7613, 21637), (3263, 21637))"
      ]
     },
     "execution_count": 11,
     "metadata": {},
     "output_type": "execute_result"
    }
   ],
   "source": [
    "train_vectors.shape, test_vectors.shape"
   ]
  },
  {
   "cell_type": "code",
   "execution_count": 12,
   "metadata": {},
   "outputs": [],
   "source": [
    "seed = 42\n",
    "np.random.seed(seed)"
   ]
  },
  {
   "cell_type": "code",
   "execution_count": 13,
   "metadata": {},
   "outputs": [],
   "source": [
    "X, X_test, y, y_test = train_test_split(train_vectors, train_sub, test_size=0.2, \n",
    "                                                    random_state=seed)"
   ]
  },
  {
   "cell_type": "code",
   "execution_count": 20,
   "metadata": {},
   "outputs": [
    {
     "data": {
      "text/plain": [
       "((6090, 21637), (1523, 21637))"
      ]
     },
     "execution_count": 20,
     "metadata": {},
     "output_type": "execute_result"
    }
   ],
   "source": [
    "X.shape, X_test.shape"
   ]
  },
  {
   "cell_type": "code",
   "execution_count": 25,
   "metadata": {},
   "outputs": [
    {
     "name": "stdout",
     "output_type": "stream",
     "text": [
      "[0.71271394 0.72379778 0.71869328]\n",
      "0.741753821399839\n"
     ]
    }
   ],
   "source": [
    "# RidgeClassifier\n",
    "\n",
    "clf = RidgeClassifier()\n",
    "scores = cross_val_score(clf, X, y, cv=3, scoring=\"f1\")\n",
    "print(scores)\n",
    "clf.fit(X, y);\n",
    "\n",
    "preds = clf.predict(X_test)\n",
    "# accuracy test\n",
    "print(f1_score(y_test, preds))\n",
    "\n",
    "preds_test = clf.predict(test_vectors)\n",
    "preds_df = pd.DataFrame(test_df['id'])\n",
    "preds_df['target'] = preds_test\n",
    "preds_df.to_csv(\"nlp-getting-started/submission_get_started.csv\", index=False)"
   ]
  },
  {
   "cell_type": "raw",
   "metadata": {},
   "source": [
    "kaggle score 0.77096 "
   ]
  },
  {
   "cell_type": "code",
   "execution_count": null,
   "metadata": {},
   "outputs": [],
   "source": []
  },
  {
   "cell_type": "code",
   "execution_count": 24,
   "metadata": {},
   "outputs": [
    {
     "name": "stdout",
     "output_type": "stream",
     "text": [
      "[0.73416149 0.74722565 0.72424429]\n",
      "0.7646103896103896\n"
     ]
    }
   ],
   "source": [
    "# LogisticRegression\n",
    "\n",
    "model = LogisticRegression(solver='newton-cg')\n",
    "scores_m = cross_val_score(model, X, y, cv=3, scoring=\"f1\")\n",
    "print(scores_m)\n",
    "model.fit(X, y)\n",
    "\n",
    "preds_m = model.predict(X_test)\n",
    "# accuracy test\n",
    "print(f1_score(y_test, preds_m))\n",
    "\n",
    "preds_test_m = model.predict(test_vectors)\n",
    "preds_df_m = pd.DataFrame(test_df['id'])\n",
    "preds_df_m['target'] = preds_test_m\n",
    "preds_df_m.to_csv(\"nlp-getting-started/submission_get_started-2.csv\", index=False)"
   ]
  },
  {
   "cell_type": "raw",
   "metadata": {},
   "source": [
    "kaggle score 0.79243"
   ]
  },
  {
   "cell_type": "code",
   "execution_count": null,
   "metadata": {},
   "outputs": [],
   "source": []
  },
  {
   "cell_type": "code",
   "execution_count": 27,
   "metadata": {},
   "outputs": [
    {
     "data": {
      "text/plain": [
       "(6090, 21637)"
      ]
     },
     "execution_count": 27,
     "metadata": {},
     "output_type": "execute_result"
    }
   ],
   "source": [
    "X.shape"
   ]
  },
  {
   "cell_type": "code",
   "execution_count": 36,
   "metadata": {},
   "outputs": [
    {
     "data": {
      "text/plain": [
       "<1x21637 sparse matrix of type '<class 'numpy.int64'>'\n",
       "\twith 20 stored elements in Compressed Sparse Row format>"
      ]
     },
     "execution_count": 36,
     "metadata": {},
     "output_type": "execute_result"
    }
   ],
   "source": [
    "X[0][0]"
   ]
  },
  {
   "cell_type": "code",
   "execution_count": 55,
   "metadata": {},
   "outputs": [
    {
     "data": {
      "text/plain": [
       "1"
      ]
     },
     "execution_count": 55,
     "metadata": {},
     "output_type": "execute_result"
    }
   ],
   "source": [
    "y.iloc[0]"
   ]
  },
  {
   "cell_type": "code",
   "execution_count": 56,
   "metadata": {},
   "outputs": [
    {
     "name": "stdout",
     "output_type": "stream",
     "text": [
      "Fold № 0\n",
      "[   0    1    2 ... 6087 6088 6089] (4872,)\n",
      "[  10   14   22 ... 6076 6082 6083] (1218,)\n",
      "Fold № 1\n",
      "[   0    1    4 ... 6087 6088 6089] (4872,)\n",
      "[   2    3    5 ... 6079 6081 6086] (1218,)\n"
     ]
    },
    {
     "name": "stderr",
     "output_type": "stream",
     "text": [
      "C:\\Users\\PC\\anaconda3\\lib\\site-packages\\sklearn\\linear_model\\_logistic.py:940: ConvergenceWarning: lbfgs failed to converge (status=1):\n",
      "STOP: TOTAL NO. of ITERATIONS REACHED LIMIT.\n",
      "\n",
      "Increase the number of iterations (max_iter) or scale the data as shown in:\n",
      "    https://scikit-learn.org/stable/modules/preprocessing.html\n",
      "Please also refer to the documentation for alternative solver options:\n",
      "    https://scikit-learn.org/stable/modules/linear_model.html#logistic-regression\n",
      "  extra_warning_msg=_LOGISTIC_SOLVER_CONVERGENCE_MSG)\n"
     ]
    },
    {
     "name": "stdout",
     "output_type": "stream",
     "text": [
      "Fold № 2\n",
      "[   0    2    3 ... 6087 6088 6089] (4872,)\n",
      "[   1   15   18 ... 6063 6077 6085] (1218,)\n",
      "Fold № 3\n",
      "[   1    2    3 ... 6085 6086 6087] (4872,)\n",
      "[   0    6   11 ... 6075 6088 6089] (1218,)\n",
      "Fold № 4\n",
      "[   0    1    2 ... 6086 6088 6089] (4872,)\n",
      "[   4   12   26 ... 6080 6084 6087] (1218,)\n"
     ]
    }
   ],
   "source": [
    "# use KFold on LogisticRegression\n",
    "\n",
    "result = pd.DataFrame()\n",
    "kf = KFold(n_splits=5, shuffle=True)\n",
    "for num, idxs in enumerate(kf.split(X)):\n",
    "    print(f'Fold № {num}')\n",
    "    train_index = idxs[0]\n",
    "    val_index = idxs[1]\n",
    "#     print(train_index, train_index.shape)\n",
    "#     print(val_index, val_index.shape)\n",
    "    X_train, X_val = X.toarray()[train_index], X.toarray()[val_index]\n",
    "    y_train, y_val = y.iloc[train_index], y.iloc[val_index]\n",
    "    model = LogisticRegression()\n",
    "    model.fit(X_train, y_train)\n",
    "    dummy = {'Fold №': int(num), 'Accuracy': model.score(X_val, y_val)}\n",
    "    result = result.append(dummy, ignore_index=True) "
   ]
  },
  {
   "cell_type": "code",
   "execution_count": 57,
   "metadata": {},
   "outputs": [
    {
     "data": {
      "text/html": [
       "<div>\n",
       "<style scoped>\n",
       "    .dataframe tbody tr th:only-of-type {\n",
       "        vertical-align: middle;\n",
       "    }\n",
       "\n",
       "    .dataframe tbody tr th {\n",
       "        vertical-align: top;\n",
       "    }\n",
       "\n",
       "    .dataframe thead th {\n",
       "        text-align: right;\n",
       "    }\n",
       "</style>\n",
       "<table border=\"1\" class=\"dataframe\">\n",
       "  <thead>\n",
       "    <tr style=\"text-align: right;\">\n",
       "      <th></th>\n",
       "      <th>Accuracy</th>\n",
       "      <th>Fold №</th>\n",
       "    </tr>\n",
       "  </thead>\n",
       "  <tbody>\n",
       "    <tr>\n",
       "      <th>0</th>\n",
       "      <td>0.810345</td>\n",
       "      <td>0</td>\n",
       "    </tr>\n",
       "    <tr>\n",
       "      <th>1</th>\n",
       "      <td>0.781609</td>\n",
       "      <td>1</td>\n",
       "    </tr>\n",
       "    <tr>\n",
       "      <th>2</th>\n",
       "      <td>0.801314</td>\n",
       "      <td>2</td>\n",
       "    </tr>\n",
       "    <tr>\n",
       "      <th>3</th>\n",
       "      <td>0.789819</td>\n",
       "      <td>3</td>\n",
       "    </tr>\n",
       "    <tr>\n",
       "      <th>4</th>\n",
       "      <td>0.807061</td>\n",
       "      <td>4</td>\n",
       "    </tr>\n",
       "  </tbody>\n",
       "</table>\n",
       "</div>"
      ],
      "text/plain": [
       "   Accuracy  Fold №\n",
       "0  0.810345       0\n",
       "1  0.781609       1\n",
       "2  0.801314       2\n",
       "3  0.789819       3\n",
       "4  0.807061       4"
      ]
     },
     "execution_count": 57,
     "metadata": {},
     "output_type": "execute_result"
    }
   ],
   "source": [
    "result['Fold №'] = result['Fold №'].astype(int)\n",
    "result"
   ]
  },
  {
   "cell_type": "code",
   "execution_count": 58,
   "metadata": {},
   "outputs": [
    {
     "name": "stdout",
     "output_type": "stream",
     "text": [
      "0.7573770491803279\n"
     ]
    }
   ],
   "source": [
    "# preds after fit model with KFold.split\n",
    "preds = model.predict(X_test)\n",
    "# accuracy test\n",
    "print(f1_score(y_test, preds))"
   ]
  },
  {
   "cell_type": "code",
   "execution_count": null,
   "metadata": {},
   "outputs": [],
   "source": []
  }
 ],
 "metadata": {
  "kernelspec": {
   "display_name": "Python 3",
   "language": "python",
   "name": "python3"
  },
  "language_info": {
   "codemirror_mode": {
    "name": "ipython",
    "version": 3
   },
   "file_extension": ".py",
   "mimetype": "text/x-python",
   "name": "python",
   "nbconvert_exporter": "python",
   "pygments_lexer": "ipython3",
   "version": "3.6.10"
  }
 },
 "nbformat": 4,
 "nbformat_minor": 4
}
